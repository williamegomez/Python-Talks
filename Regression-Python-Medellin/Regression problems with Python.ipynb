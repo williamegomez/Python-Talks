{
 "cells": [
  {
   "cell_type": "markdown",
   "metadata": {},
   "source": [
    "# Solving regression problems with python\n",
    "### First we are gonna to create a synthetic data, suposse we have a historic record of house prices according to their size."
   ]
  },
  {
   "cell_type": "code",
   "execution_count": 1,
   "metadata": {},
   "outputs": [
    {
     "data": {
      "text/plain": [
       "<matplotlib.figure.Figure at 0x10ccbfef0>"
      ]
     },
     "metadata": {},
     "output_type": "display_data"
    }
   ],
   "source": [
    "import numpy as np\n",
    "import matplotlib.pyplot as plt\n",
    "\n",
    "\n",
    "X = np.linspace(0,20,100)   \n",
    "# Just create a ficticial relationship and ignore that we know it xD\n",
    "Y = (-2*X**3 + X**4.5 + 100000*np.random.rand(X.shape[0]))/1000\n",
    "\n",
    "plt.plot(X,Y,'.')\n",
    "plt.xlabel('Size (feet)^2')\n",
    "plt.ylabel('Price')\n",
    "\n",
    "plt.show()"
   ]
  },
  {
   "cell_type": "markdown",
   "metadata": {},
   "source": [
    "# K-Nearest Neighbors\n",
    "\n",
    "## This is a nonparametric model that predict from the data (There is no an actual training stage in this model, for each new sample the prediction is performed using the training data). Therefore if we want to save this model, we need to save all the data.\n",
    "\n",
    "### How works?\n",
    "As input we receive an Xref matrix that is the training data (size of the houses). The vector Yref is the vector that contains all the labels (prices) of the training data, i.e., for a size X what is the price Y. We also receive a Xtest matrix that are the sample to which we want to predict their response value (price of the house). \n",
    "\n",
    "For each new sample we need to compute the distance of this sample to the samples in the Xref (training data).\n",
    "## \\begin{equation} d(x_{new}, x) = \\lvert x_{new} - x \\lvert  \\end{equation}\n",
    "\n",
    "Let V be the set of the K-nearest neighbors of the sample x. The prediction is computed averaging the labels of the nearest neighbors:\n",
    "\n",
    "## \\begin{equation} prediction(x_{new}) = \\frac{1}{K} \\sum_{y^{(i)} \\, | \\, x^{(i)} \\in V } y^{(i)} \\end{equation}\n"
   ]
  },
  {
   "cell_type": "code",
   "execution_count": 2,
   "metadata": {},
   "outputs": [],
   "source": [
    "def KnnRegression(Xref,Xtest,Yref,k=5):  \n",
    "    M = Xtest.shape[0]\n",
    "    N = Xref.shape[0]\n",
    "    \n",
    "    prediction = np.zeros(shape=(M))\n",
    "    distance = np.zeros(shape=(N))\n",
    "    \n",
    "    for i in range(M):\n",
    "        for j in range(N):\n",
    "            distance[j] = np.abs(Xtest[i]-Xref[j])\n",
    "            \n",
    "        indices = np.argsort(distance)[:k] \n",
    "        prediction[i] = np.mean(Yref[indices])\n",
    "    \n",
    "    return prediction"
   ]
  },
  {
   "cell_type": "markdown",
   "metadata": {},
   "source": [
    "# Let's create new data in the same range, and plot the prediction of the model in orange."
   ]
  },
  {
   "cell_type": "code",
   "execution_count": 3,
   "metadata": {},
   "outputs": [
    {
     "data": {
      "text/plain": [
       "Text(0,0.5,'Price')"
      ]
     },
     "execution_count": 3,
     "metadata": {},
     "output_type": "execute_result"
    },
    {
     "data": {
      "image/png": "[encoded data removed]",
      "text/plain": [
       "<matplotlib.figure.Figure at 0x1148f6a58>"
      ]
     },
     "metadata": {},
     "output_type": "display_data"
    }
   ],
   "source": [
    "newData = np.linspace(0,15,50)\n",
    "\n",
    "prediction = KnnRegression(X,newData,Y,k=1)\n",
    "\n",
    "plt.plot(X,Y,'.')\n",
    "plt.plot(newData,prediction)\n",
    "plt.xlabel('Size (feet)^2')\n",
    "plt.ylabel('Price')"
   ]
  },
  {
   "cell_type": "markdown",
   "metadata": {},
   "source": [
    "# How to select the best k for our data?"
   ]
  },
  {
   "cell_type": "markdown",
   "metadata": {},
   "source": [
    "## It's validation time!\n",
    "\n",
    "## Scikit-Learn offers a function that split our data in the number of folds that we want"
   ]
  },
  {
   "cell_type": "code",
   "execution_count": 4,
   "metadata": {},
   "outputs": [],
   "source": [
    "from sklearn.model_selection import KFold"
   ]
  },
  {
   "cell_type": "code",
   "execution_count": 5,
   "metadata": {},
   "outputs": [
    {
     "name": "stdout",
     "output_type": "stream",
     "text": [
      "TRAIN: [50 51 52 53 54 55 56 57 58 59 60 61 62 63 64 65 66 67 68 69 70 71 72 73\n",
      " 74 75 76 77 78 79 80 81 82 83 84 85 86 87 88 89 90 91 92 93 94 95 96 97\n",
      " 98 99] TEST: [ 0  1  2  3  4  5  6  7  8  9 10 11 12 13 14 15 16 17 18 19 20 21 22 23\n",
      " 24 25 26 27 28 29 30 31 32 33 34 35 36 37 38 39 40 41 42 43 44 45 46 47\n",
      " 48 49]\n",
      "TRAIN: [ 0  1  2  3  4  5  6  7  8  9 10 11 12 13 14 15 16 17 18 19 20 21 22 23\n",
      " 24 25 26 27 28 29 30 31 32 33 34 35 36 37 38 39 40 41 42 43 44 45 46 47\n",
      " 48 49] TEST: [50 51 52 53 54 55 56 57 58 59 60 61 62 63 64 65 66 67 68 69 70 71 72 73\n",
      " 74 75 76 77 78 79 80 81 82 83 84 85 86 87 88 89 90 91 92 93 94 95 96 97\n",
      " 98 99]\n"
     ]
    }
   ],
   "source": [
    "nfolds = 2\n",
    "kf = KFold(n_splits=nfolds)\n",
    "\n",
    "for train_index, test_index in kf.split(X):\n",
    "    print(\"TRAIN:\", train_index, \"TEST:\", test_index)\n",
    "    X_train, X_test = X[train_index], X[test_index]\n",
    "    y_train, y_test = Y[train_index], Y[test_index]"
   ]
  },
  {
   "cell_type": "markdown",
   "metadata": {},
   "source": [
    "# In the literature, researchers usually uses 10 folds to test their data\n",
    "\n",
    "## First, we need to divide our data in 20% for test and 80% for validation"
   ]
  },
  {
   "cell_type": "code",
   "execution_count": 6,
   "metadata": {},
   "outputs": [],
   "source": [
    "M = X.shape[0]\n",
    "\n",
    "indices = np.random.permutation(M)\n",
    "\n",
    "Xval = X[indices[:int(0.8*M)]]\n",
    "Yval = Y[indices[:int(0.8*M)]]\n",
    "\n",
    "Xtest = X[indices[int(0.8*M):]]\n",
    "Ytest = Y[indices[int(0.8*M):]]"
   ]
  },
  {
   "cell_type": "code",
   "execution_count": 7,
   "metadata": {},
   "outputs": [
    {
     "name": "stdout",
     "output_type": "stream",
     "text": [
      "(80,)\n",
      "(20,)\n"
     ]
    }
   ],
   "source": [
    "print(Xval.shape)\n",
    "print(Xtest.shape)"
   ]
  },
  {
   "cell_type": "code",
   "execution_count": 8,
   "metadata": {},
   "outputs": [],
   "source": [
    "from sklearn.metrics import mean_absolute_error\n",
    "from sklearn.metrics import mean_squared_error\n",
    "from sklearn.metrics import r2_score\n",
    "\n",
    "\n",
    "nfolds = 10\n",
    "kf = KFold(n_splits=nfolds)\n",
    "\n",
    "\n",
    "K_values = np.arange(1,100,5)\n",
    "\n",
    "Results_R_score = np.zeros((K_values.shape[0],10))\n",
    "Results_MAE = np.zeros((K_values.shape[0],10))\n",
    "Results_MSE = np.zeros((K_values.shape[0],10))\n",
    "\n",
    "for index, k in enumerate(K_values):\n",
    "    fold = 0\n",
    "    for train_index, test_index in kf.split(Xval):\n",
    "        \n",
    "        X_train, X_test = Xval[train_index], Xval[test_index]\n",
    "        y_train, y_test = Yval[train_index], Yval[test_index]\n",
    "\n",
    "        prediction = KnnRegression(X_train,X_test,y_train,k)\n",
    "\n",
    "        Results_R_score[index,fold] = r2_score(y_test, prediction)\n",
    "        Results_MAE[index,fold] = mean_absolute_error(y_test, prediction)\n",
    "        Results_MSE[index,fold] = mean_squared_error(y_test, prediction)\n",
    "        \n",
    "        fold = fold + 1"
   ]
  },
  {
   "cell_type": "code",
   "execution_count": 9,
   "metadata": {},
   "outputs": [
    {
     "data": {
      "text/plain": [
       "array([ 65.88308948,  71.87376378,  88.00741415, 115.71559878,\n",
       "       139.99914835, 156.08538099,  84.65725362, 107.32497102,\n",
       "       102.21782728,  63.42642517])"
      ]
     },
     "execution_count": 9,
     "metadata": {},
     "output_type": "execute_result"
    }
   ],
   "source": [
    "np.mean(Results_MAE, axis = 0)"
   ]
  },
  {
   "cell_type": "code",
   "execution_count": 10,
   "metadata": {},
   "outputs": [
    {
     "data": {
      "text/plain": [
       "9"
      ]
     },
     "execution_count": 10,
     "metadata": {},
     "output_type": "execute_result"
    }
   ],
   "source": [
    "Bestsolution = np.argmin(np.mean(Results_MAE, axis = 0))\n",
    "Bestsolution"
   ]
  },
  {
   "cell_type": "code",
   "execution_count": 11,
   "metadata": {},
   "outputs": [
    {
     "data": {
      "text/plain": [
       "46"
      ]
     },
     "execution_count": 11,
     "metadata": {},
     "output_type": "execute_result"
    }
   ],
   "source": [
    "K_values[Bestsolution]"
   ]
  },
  {
   "cell_type": "code",
   "execution_count": 12,
   "metadata": {},
   "outputs": [
    {
     "data": {
      "text/plain": [
       "Text(0,0.5,'Price')"
      ]
     },
     "execution_count": 12,
     "metadata": {},
     "output_type": "execute_result"
    },
    {
     "data": {
      "image/png": "[encoded data removed]",
      "text/plain": [
       "<matplotlib.figure.Figure at 0x1a198dde80>"
      ]
     },
     "metadata": {},
     "output_type": "display_data"
    }
   ],
   "source": [
    "prediction = KnnRegression(Xval,Xtest,Yval,k=6)\n",
    "\n",
    "plt.plot(Xtest,Ytest,'.')\n",
    "plt.plot(Xtest,prediction,'x')\n",
    "plt.xlabel('Size (feet)^2')\n",
    "plt.ylabel('Price')"
   ]
  },
  {
   "cell_type": "code",
   "execution_count": 13,
   "metadata": {},
   "outputs": [
    {
     "data": {
      "text/plain": [
       "array([ 65.88308948,  71.87376378,  88.00741415, 115.71559878,\n",
       "       139.99914835, 156.08538099,  84.65725362, 107.32497102,\n",
       "       102.21782728,  63.42642517])"
      ]
     },
     "execution_count": 13,
     "metadata": {},
     "output_type": "execute_result"
    }
   ],
   "source": [
    "np.mean(Results_MAE,axis = 0)"
   ]
  },
  {
   "cell_type": "code",
   "execution_count": null,
   "metadata": {},
   "outputs": [],
   "source": []
  },
  {
   "cell_type": "code",
   "execution_count": null,
   "metadata": {},
   "outputs": [],
   "source": []
  }
 ],
 "metadata": {
  "kernelspec": {
   "display_name": "Python 3",
   "language": "python",
   "name": "python3"
  },
  "language_info": {
   "codemirror_mode": {
    "name": "ipython",
    "version": 3
   },
   "file_extension": ".py",
   "mimetype": "text/x-python",
   "name": "python",
   "nbconvert_exporter": "python",
   "pygments_lexer": "ipython3",
   "version": "3.6.4"
  }
 },
 "nbformat": 4,
 "nbformat_minor": 2
}
